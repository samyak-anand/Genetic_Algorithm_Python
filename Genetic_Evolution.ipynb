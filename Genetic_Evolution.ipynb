{
 "cells": [
  {
   "cell_type": "markdown",
   "metadata": {},
   "source": [
    "Genetic algorithms are a class of evolutionary algorithms that is inspired by the biological genetic evolution of living organisms."
   ]
  },
  {
   "cell_type": "markdown",
   "metadata": {},
   "source": [
    "The following code shows how to implement the genetic algorithm for solving the knap-sack problem in Python"
   ]
  },
  {
   "cell_type": "code",
   "execution_count": 1,
   "metadata": {},
   "outputs": [],
   "source": [
    "def main():\n",
    "    import random\n",
    "    KCap =50\n",
    "    Pop_size = 30 \n",
    "    GEN_MAX = 50\n",
    "    NUM_ITEMS = 15\n",
    "    ITEMS = [(random.randint(0,20),random.randint(0,20))\n",
    "    for x in range (0, NUM_ITEMS)]\n",
    "    generation = 1 #Generation counter\n",
    "    population = Initialization(POP_SIZE, NUM_ITEMS)\n",
    "    for g in range(0,GEN_MAX):\n",
    "        population = sorted(population,\n",
    "        key=lambda ind: fitness(ind, ITEMS, KCap),\n",
    "        reverse=True)\n",
    "    totalFitness = 0\n",
    "    for i in population:\n",
    "        totalFitness += fitness(i, ITEMS, KCap)\n",
    "    print(totalFitness)\n",
    "    population = Evolution(population)\n",
    "    generation += 1\n",
    "    population = sorted(population,\n",
    "    key=lambda ind: fitness(ind, ITEMS, KCap),\n",
    "    reverse=True)\n",
    "    print(population[0])\n"
   ]
  }
 ],
 "metadata": {
  "kernelspec": {
   "display_name": ".venv",
   "language": "python",
   "name": "python3"
  },
  "language_info": {
   "codemirror_mode": {
    "name": "ipython",
    "version": 3
   },
   "file_extension": ".py",
   "mimetype": "text/x-python",
   "name": "python",
   "nbconvert_exporter": "python",
   "pygments_lexer": "ipython3",
   "version": "3.11.6"
  }
 },
 "nbformat": 4,
 "nbformat_minor": 2
}
